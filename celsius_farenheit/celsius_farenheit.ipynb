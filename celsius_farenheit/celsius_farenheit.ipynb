{
 "cells": [
  {
   "cell_type": "code",
   "execution_count": 1,
   "metadata": {
    "collapsed": false,
    "deletable": true,
    "editable": true
   },
   "outputs": [
    {
     "name": "stderr",
     "output_type": "stream",
     "text": [
      "../../caffe_gt/python/caffe/pycaffe.py:13: RuntimeWarning: to-Python converter for caffe::LayerParameter already registered; second conversion method ignored.\n",
      "  from ._caffe import \\\n",
      "../../caffe_gt/python/caffe/pycaffe.py:13: RuntimeWarning: to-Python converter for caffe::SolverParameter already registered; second conversion method ignored.\n",
      "  from ._caffe import \\\n",
      "../../caffe_gt/python/caffe/pycaffe.py:13: RuntimeWarning: to-Python converter for std::vector<int, std::allocator<int> > already registered; second conversion method ignored.\n",
      "  from ._caffe import \\\n"
     ]
    }
   ],
   "source": [
    "from __future__ import print_function\n",
    "# Specify where PyCaffe is\n",
    "caffe_path = '../../caffe_gt/python'\n",
    "\n",
    "# Import Numpy and Caffe plus a few other utilities\n",
    "import sys, os, math, random, time\n",
    "import numpy as np\n",
    "import matplotlib.pyplot as plt\n",
    "from IPython import display\n",
    "%matplotlib inline\n",
    "sys.path.append(caffe_path)\n",
    "import caffe\n",
    "from caffe import layers as L\n",
    "from caffe import params as P\n",
    "from caffe import to_proto"
   ]
  },
  {
   "cell_type": "code",
   "execution_count": 8,
   "metadata": {
    "collapsed": false,
    "deletable": true,
    "editable": true
   },
   "outputs": [],
   "source": [
    "# Define the training and testing data\n",
    "values_celsius = np.array([(float)(c) for c in range(-273,1000)])\n",
    "# We know that farenheit = celsius * 1.8 + 32.0\n",
    "values_farenheit = np.array([c*1.8+32.0 for c in values_celsius])\n",
    "\n",
    "# Split data into training (90%) and testing (10%)\n",
    "indices = np.random.permutation(values_celsius.shape[0])\n",
    "training_idx, test_idx = indices[:(int)(90*values_celsius.shape[0]/100)], indices[(int)(90*values_celsius.shape[0]/100):]\n",
    "\n",
    "values_celsius_train = values_celsius[training_idx]\n",
    "values_farenheit_train = values_farenheit[training_idx]\n",
    "values_celsius_test = values_celsius[test_idx]\n",
    "values_farenheit_test = values_farenheit[test_idx]"
   ]
  },
  {
   "cell_type": "code",
   "execution_count": 9,
   "metadata": {
    "collapsed": false,
    "deletable": true,
    "editable": true
   },
   "outputs": [],
   "source": [
    "# Create a simple network with just one neuron for this task.\n",
    "# It can learn a linear function y = a*x + b\n",
    "net = caffe.NetSpec()\n",
    "net.celsius = L.Input(input_param=dict(shape=dict(dim=[1,1,1,1])), ntop=1)\n",
    "net.farenheit = L.Input(input_param=dict(shape=dict(dim=[1,1,1,1])), ntop=1)\n",
    "net.neuron = L.InnerProduct(net.celsius,inner_product_param = dict(\n",
    "                                                    num_output = 1,\n",
    "                                                    weight_filler = dict(type='constant'),\n",
    "                                                    bias_filler = dict(type='constant')))\n",
    "net.euclidean = L.EuclideanLoss(net.neuron,net.farenheit)\n",
    "protonet = net.to_proto()\n",
    "protonet.name = 'net'\n",
    "with open(protonet.name + '.prototxt', 'w') as f:\n",
    "    print(protonet, file=f)"
   ]
  },
  {
   "cell_type": "code",
   "execution_count": 10,
   "metadata": {
    "collapsed": false,
    "deletable": true,
    "editable": true
   },
   "outputs": [
    {
     "name": "stdout",
     "output_type": "stream",
     "text": [
      "5\n"
     ]
    }
   ],
   "source": [
    "# Switch Caffe to GPU Mode\n",
    "caffe.set_mode_gpu()\n",
    "# Count available GPUs\n",
    "print(caffe.enumerate_devices(True))\n",
    "# Select the first GPU\n",
    "caffe.set_device(0)"
   ]
  },
  {
   "cell_type": "code",
   "execution_count": 11,
   "metadata": {
    "collapsed": true,
    "deletable": true,
    "editable": true
   },
   "outputs": [],
   "source": [
    "# Create a solver with a few typical parameters\n",
    "# The solver will perform SGD on our data\n",
    "solver_config = caffe.SolverParameter()\n",
    "solver_config.train_net = 'net.prototxt'\n",
    "solver_config.base_lr = 1.0\n",
    "solver_config.momentum = 0.99\n",
    "solver_config.weight_decay = 0.00005\n",
    "solver_config.lr_policy = 'inv'\n",
    "solver_config.gamma = 0.01\n",
    "solver_config.power = 0.75\n",
    "solver_config.max_iter = 2000\n",
    "solver_config.snapshot = 500\n",
    "solver_config.snapshot_prefix = 'net'\n",
    "solver_config.type = 'Adam'\n",
    "solver_config.display = 1"
   ]
  },
  {
   "cell_type": "code",
   "execution_count": 12,
   "metadata": {
    "collapsed": false,
    "deletable": true,
    "editable": true
   },
   "outputs": [
    {
     "data": {
      "image/png": "[encoded data removed]",
      "text/plain": [
       "<matplotlib.figure.Figure at 0x7fe69fff6910>"
      ]
     },
     "metadata": {},
     "output_type": "display_data"
    }
   ],
   "source": [
    "# Do the training\n",
    "losses = []\n",
    "solver = caffe.get_solver(solver_config)\n",
    "for i in range(0,solver_config.max_iter):\n",
    "    # Pick a random sample for training\n",
    "    k = random.randint(0,len(values_celsius_train)-1)\n",
    "    # Load the sample into the network\n",
    "    solver.net.blobs['celsius'].data[0] = values_celsius_train[k]\n",
    "    solver.net.blobs['farenheit'].data[0] = values_farenheit_train[k]\n",
    "    # Train one step\n",
    "    loss = solver.step(1)\n",
    "    # Display the learning progress every 20 steps\n",
    "    if (i % 100 == 0):\n",
    "        losses.append(loss)\n",
    "        plt.plot(losses)\n",
    "        display.display(plt.gcf())\n",
    "        display.clear_output(wait=True)\n",
    "        time.sleep(0.0001)"
   ]
  },
  {
   "cell_type": "code",
   "execution_count": 14,
   "metadata": {
    "collapsed": false,
    "deletable": true,
    "editable": true
   },
   "outputs": [
    {
     "name": "stdout",
     "output_type": "stream",
     "text": [
      "Cesius: 651.0°C, predicted: 1203.02 °F, actual: 1203.8 °F\n",
      "Cesius: -141.0°C, predicted: -225.01 °F, actual: -221.8 °F\n",
      "Cesius: 71.0°C, predicted: 157.241 °F, actual: 159.8 °F\n",
      "Cesius: 411.0°C, predicted: 770.284 °F, actual: 771.8 °F\n",
      "Cesius: 790.0°C, predicted: 1453.65 °F, actual: 1454.0 °F\n",
      "Cesius: 979.0°C, predicted: 1794.43 °F, actual: 1794.2 °F\n",
      "Cesius: 361.0°C, predicted: 680.131 °F, actual: 681.8 °F\n",
      "Cesius: -32.0°C, predicted: -28.4754 °F, actual: -25.6 °F\n",
      "Cesius: 469.0°C, predicted: 874.862 °F, actual: 876.2 °F\n",
      "Cesius: -143.0°C, predicted: -228.616 °F, actual: -225.4 °F\n",
      "Cesius: 286.0°C, predicted: 544.901 °F, actual: 546.8 °F\n",
      "Cesius: 776.0°C, predicted: 1428.4 °F, actual: 1428.8 °F\n",
      "Cesius: 938.0°C, predicted: 1720.5 °F, actual: 1720.4 °F\n",
      "Cesius: 47.0°C, predicted: 113.967 °F, actual: 116.6 °F\n",
      "Cesius: -60.0°C, predicted: -78.9613 °F, actual: -76.0 °F\n",
      "Cesius: 112.0°C, predicted: 231.167 °F, actual: 233.6 °F\n",
      "Cesius: -28.0°C, predicted: -21.2631 °F, actual: -18.4 °F\n",
      "Cesius: 343.0°C, predicted: 647.676 °F, actual: 649.4 °F\n",
      "Cesius: 734.0°C, predicted: 1352.68 °F, actual: 1353.2 °F\n",
      "Cesius: -10.0°C, predicted: 11.1921 °F, actual: 14.0 °F\n",
      "Cesius: 434.0°C, predicted: 811.755 °F, actual: 813.2 °F\n",
      "Cesius: 949.0°C, predicted: 1740.34 °F, actual: 1740.2 °F\n",
      "Cesius: -101.0°C, predicted: -152.887 °F, actual: -149.8 °F\n",
      "Cesius: 621.0°C, predicted: 1148.93 °F, actual: 1149.8 °F\n",
      "Cesius: 460.0°C, predicted: 858.635 °F, actual: 860.0 °F\n",
      "Cesius: 454.0°C, predicted: 847.816 °F, actual: 849.2 °F\n",
      "Cesius: 129.0°C, predicted: 261.819 °F, actual: 264.2 °F\n",
      "Cesius: 490.0°C, predicted: 912.727 °F, actual: 914.0 °F\n",
      "Cesius: 34.0°C, predicted: 90.5272 °F, actual: 93.2 °F\n",
      "Cesius: 602.0°C, predicted: 1114.67 °F, actual: 1115.6 °F\n",
      "Cesius: 726.0°C, predicted: 1338.25 °F, actual: 1338.8 °F\n",
      "Cesius: 441.0°C, predicted: 824.376 °F, actual: 825.8 °F\n",
      "Cesius: 104.0°C, predicted: 216.742 °F, actual: 219.2 °F\n",
      "Cesius: 70.0°C, predicted: 155.438 °F, actual: 158.0 °F\n",
      "Cesius: 376.0°C, predicted: 707.177 °F, actual: 708.8 °F\n",
      "Cesius: 209.0°C, predicted: 406.064 °F, actual: 408.2 °F\n",
      "Cesius: 600.0°C, predicted: 1111.06 °F, actual: 1112.0 °F\n",
      "Cesius: 244.0°C, predicted: 469.172 °F, actual: 471.2 °F\n",
      "Cesius: 721.0°C, predicted: 1329.24 °F, actual: 1329.8 °F\n",
      "Cesius: 214.0°C, predicted: 415.08 °F, actual: 417.2 °F\n",
      "Cesius: 880.0°C, predicted: 1615.92 °F, actual: 1616.0 °F\n",
      "Cesius: 84.0°C, predicted: 180.681 °F, actual: 183.2 °F\n",
      "Cesius: 986.0°C, predicted: 1807.05 °F, actual: 1806.8 °F\n",
      "Cesius: 855.0°C, predicted: 1570.85 °F, actual: 1571.0 °F\n",
      "Cesius: 747.0°C, predicted: 1376.12 °F, actual: 1376.6 °F\n",
      "Cesius: 843.0°C, predicted: 1549.21 °F, actual: 1549.4 °F\n",
      "Cesius: 19.0°C, predicted: 63.4811 °F, actual: 66.2 °F\n",
      "Cesius: -81.0°C, predicted: -116.826 °F, actual: -113.8 °F\n",
      "Cesius: 658.0°C, predicted: 1215.64 °F, actual: 1216.4 °F\n",
      "Cesius: -56.0°C, predicted: -71.7491 °F, actual: -68.8 °F\n",
      "Cesius: -225.0°C, predicted: -376.468 °F, actual: -373.0 °F\n",
      "Cesius: -238.0°C, predicted: -399.908 °F, actual: -396.4 °F\n",
      "Cesius: 296.0°C, predicted: 562.931 °F, actual: 564.8 °F\n",
      "Cesius: 545.0°C, predicted: 1011.9 °F, actual: 1013.0 °F\n",
      "Cesius: 118.0°C, predicted: 241.985 °F, actual: 244.4 °F\n",
      "Cesius: 114.0°C, predicted: 234.773 °F, actual: 237.2 °F\n",
      "Cesius: 780.0°C, predicted: 1435.62 °F, actual: 1436.0 °F\n",
      "Cesius: -194.0°C, predicted: -320.573 °F, actual: -317.2 °F\n",
      "Cesius: 624.0°C, predicted: 1154.34 °F, actual: 1155.2 °F\n",
      "Cesius: 532.0°C, predicted: 988.456 °F, actual: 989.6 °F\n",
      "Cesius: 891.0°C, predicted: 1635.76 °F, actual: 1635.8 °F\n",
      "Cesius: 339.0°C, predicted: 640.463 °F, actual: 642.2 °F\n",
      "Cesius: 689.0°C, predicted: 1271.54 °F, actual: 1272.2 °F\n",
      "Cesius: 7.0°C, predicted: 41.8443 °F, actual: 44.6 °F\n",
      "Cesius: -158.0°C, predicted: -255.662 °F, actual: -252.4 °F\n",
      "Cesius: 212.0°C, predicted: 411.474 °F, actual: 413.6 °F\n",
      "Cesius: 735.0°C, predicted: 1354.48 °F, actual: 1355.0 °F\n",
      "Cesius: 477.0°C, predicted: 889.287 °F, actual: 890.6 °F\n",
      "Cesius: 167.0°C, predicted: 330.335 °F, actual: 332.6 °F\n",
      "Cesius: 530.0°C, predicted: 984.85 °F, actual: 986.0 °F\n",
      "Cesius: 103.0°C, predicted: 214.939 °F, actual: 217.4 °F\n",
      "Cesius: 457.0°C, predicted: 853.226 °F, actual: 854.6 °F\n",
      "Cesius: 849.0°C, predicted: 1560.03 °F, actual: 1560.2 °F\n",
      "Cesius: -86.0°C, predicted: -125.841 °F, actual: -122.8 °F\n",
      "Cesius: -129.0°C, predicted: -203.373 °F, actual: -200.2 °F\n",
      "Cesius: 973.0°C, predicted: 1783.61 °F, actual: 1783.4 °F\n",
      "Cesius: 614.0°C, predicted: 1136.31 °F, actual: 1137.2 °F\n",
      "Cesius: 150.0°C, predicted: 299.683 °F, actual: 302.0 °F\n",
      "Cesius: 193.0°C, predicted: 377.215 °F, actual: 379.4 °F\n",
      "Cesius: 809.0°C, predicted: 1487.91 °F, actual: 1488.2 °F\n",
      "Cesius: 140.0°C, predicted: 281.653 °F, actual: 284.0 °F\n",
      "Cesius: 903.0°C, predicted: 1657.39 °F, actual: 1657.4 °F\n",
      "Cesius: 388.0°C, predicted: 728.814 °F, actual: 730.4 °F\n",
      "Cesius: 422.0°C, predicted: 790.118 °F, actual: 791.6 °F\n",
      "Cesius: 111.0°C, predicted: 229.364 °F, actual: 231.8 °F\n",
      "Cesius: 690.0°C, predicted: 1273.34 °F, actual: 1274.0 °F\n",
      "Cesius: 303.0°C, predicted: 575.553 °F, actual: 577.4 °F\n",
      "Cesius: 654.0°C, predicted: 1208.43 °F, actual: 1209.2 °F\n",
      "Cesius: 615.0°C, predicted: 1138.11 °F, actual: 1139.0 °F\n",
      "Cesius: 223.0°C, predicted: 431.307 °F, actual: 433.4 °F\n",
      "Cesius: 549.0°C, predicted: 1019.11 °F, actual: 1020.2 °F\n",
      "Cesius: 375.0°C, predicted: 705.374 °F, actual: 707.0 °F\n",
      "Cesius: 117.0°C, predicted: 240.182 °F, actual: 242.6 °F\n",
      "Cesius: -85.0°C, predicted: -124.038 °F, actual: -121.0 °F\n",
      "Cesius: 424.0°C, predicted: 793.724 °F, actual: 795.2 °F\n",
      "Cesius: -19.0°C, predicted: -5.03549 °F, actual: -2.2 °F\n",
      "Cesius: -229.0°C, predicted: -383.68 °F, actual: -380.2 °F\n",
      "Cesius: 323.0°C, predicted: 611.614 °F, actual: 613.4 °F\n",
      "Cesius: 641.0°C, predicted: 1184.99 °F, actual: 1185.8 °F\n",
      "Cesius: 222.0°C, predicted: 429.504 °F, actual: 431.6 °F\n",
      "Cesius: 396.0°C, predicted: 743.238 °F, actual: 744.8 °F\n",
      "Cesius: -255.0°C, predicted: -430.56 °F, actual: -427.0 °F\n",
      "Cesius: 898.0°C, predicted: 1648.38 °F, actual: 1648.4 °F\n",
      "Cesius: 622.0°C, predicted: 1150.73 °F, actual: 1151.6 °F\n",
      "Cesius: 953.0°C, predicted: 1747.55 °F, actual: 1747.4 °F\n",
      "Cesius: -62.0°C, predicted: -82.5675 °F, actual: -79.6 °F\n",
      "Cesius: 164.0°C, predicted: 324.926 °F, actual: 327.2 °F\n",
      "Cesius: -26.0°C, predicted: -17.657 °F, actual: -14.8 °F\n",
      "Cesius: 727.0°C, predicted: 1340.05 °F, actual: 1340.6 °F\n",
      "Cesius: 800.0°C, predicted: 1471.68 °F, actual: 1472.0 °F\n",
      "Cesius: -211.0°C, predicted: -351.225 °F, actual: -347.8 °F\n",
      "Cesius: 740.0°C, predicted: 1363.49 °F, actual: 1364.0 °F\n",
      "Cesius: -253.0°C, predicted: -426.954 °F, actual: -423.4 °F\n",
      "Cesius: -4.0°C, predicted: 22.0106 °F, actual: 24.8 °F\n",
      "Cesius: 706.0°C, predicted: 1302.19 °F, actual: 1302.8 °F\n",
      "Cesius: 26.0°C, predicted: 76.1026 °F, actual: 78.8 °F\n",
      "Cesius: 807.0°C, predicted: 1484.3 °F, actual: 1484.6 °F\n",
      "Cesius: 142.0°C, predicted: 285.259 °F, actual: 287.6 °F\n",
      "Cesius: 305.0°C, predicted: 579.159 °F, actual: 581.0 °F\n",
      "Cesius: 677.0°C, predicted: 1249.9 °F, actual: 1250.6 °F\n",
      "Cesius: 187.0°C, predicted: 366.397 °F, actual: 368.6 °F\n",
      "Cesius: 287.0°C, predicted: 546.704 °F, actual: 548.6 °F\n",
      "Cesius: 273.0°C, predicted: 521.461 °F, actual: 523.4 °F\n",
      "Cesius: 324.0°C, predicted: 613.417 °F, actual: 615.2 °F\n",
      "Cesius: 978.0°C, predicted: 1792.62 °F, actual: 1792.4 °F\n",
      "Cesius: 645.0°C, predicted: 1192.2 °F, actual: 1193.0 °F\n",
      "Cesius: -175.0°C, predicted: -286.314 °F, actual: -283.0 °F\n",
      "Cesius: 918.0°C, predicted: 1684.44 °F, actual: 1684.4 °F\n",
      "Average error: 1.65500397086 °F\n"
     ]
    }
   ],
   "source": [
    "# Test how accurate the neuron has learned it's task\n",
    "error = []\n",
    "testnet = caffe.Net(str('net.prototxt'), 'net_iter_2000.caffemodel', caffe.TEST)\n",
    "for c,f in zip(values_celsius_test,values_farenheit_test):\n",
    "    testnet.blobs['celsius'].data[0] = c\n",
    "    testnet.forward()\n",
    "    predicted_f = testnet.blobs['neuron'].data[0,0]\n",
    "    print('Cesius: '+str(c)+'°C, predicted: '+str(predicted_f)+' °F, actual: '+str(f)+' °F')\n",
    "    error.append(f-predicted_f)\n",
    "print('Average error: '+str(np.array(error).mean())+' °F')"
   ]
  }
 ],
 "metadata": {
  "kernelspec": {
   "display_name": "Python 2",
   "language": "python",
   "name": "python2"
  },
  "language_info": {
   "codemirror_mode": {
    "name": "ipython",
    "version": 2
   },
   "file_extension": ".py",
   "mimetype": "text/x-python",
   "name": "python",
   "nbconvert_exporter": "python",
   "pygments_lexer": "ipython2",
   "version": "2.7.13"
  }
 },
 "nbformat": 4,
 "nbformat_minor": 2
}
